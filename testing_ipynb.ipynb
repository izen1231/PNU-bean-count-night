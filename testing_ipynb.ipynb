{
 "cells": [
  {
   "cell_type": "code",
   "execution_count": 27,
   "metadata": {},
   "outputs": [],
   "source": [
    "import numpy as np\n",
    "import cv2\n",
    "import matplotlib.pyplot as plt\n",
    "\n",
    "def get_s_area(img_path, res_l):\n",
    "    src = cv2.imread(img_path)\n",
    "    rc = (975, 909, 2555, 999)\n",
    "    src = src[rc[1]:rc[1]+rc[3], rc[0]:rc[0]+rc[2]]\n",
    "    dst = src\n",
    "    src_hsv = cv2.cvtColor(dst, cv2.COLOR_BGR2HSV)\n",
    "\n",
    "    # dst1 = cv2.inRange(src, (0, 128, 0), (100, 255, 100))\n",
    "    dst1 = cv2.inRange(src_hsv, (16, 13, 0), (80, 250, 255))\n",
    "    dst2 = cv2.morphologyEx(dst1, cv2.MORPH_OPEN, None)\n",
    "    res_l.append(sum(sum(dst2)))\n",
    "\n",
    "def get_a_area(img_path, res_l):\n",
    "    src = cv2.imread(img_path)\n",
    "    rc = (621, 221, 2988, 2624)\n",
    "    src = src[rc[1]:rc[1]+rc[3], rc[0]:rc[0]+rc[2]]\n",
    "    dst = src\n",
    "    src_hsv = cv2.cvtColor(dst, cv2.COLOR_BGR2HSV)\n",
    "\n",
    "    # dst1 = cv2.inRange(src, (0, 128, 0), (100, 255, 100))\n",
    "    dst1 = cv2.inRange(src_hsv, (16, 13, 0), (80, 250, 255))\n",
    "    dst2 = cv2.morphologyEx(dst1, cv2.MORPH_OPEN, None)\n",
    "    res_l.append(sum(sum(dst2)))\n",
    "\n",
    "f1_l = \"./Open\"\n",
    "f2_l = [f\"/t{i}\" for i in [\"01\", \"02\", \"03\", \"04\", \"05\", \"06\", \"07\", \"08\", \"09\"] + [i for i in range(10, 31)]]\n",
    "f3_l = [f\"/{i}.jpg\" for i in range(1,6)]\n",
    "\n",
    "pf_l = [f1_l+i for i in f2_l]\n",
    "f_l_1 = [i+f3_l[0] for i in pf_l]\n",
    "f_l_2 = [i+f3_l[1] for i in pf_l]\n",
    "f_l_3 = [i+f3_l[2] for i in pf_l]\n",
    "f_l_4 = [i+f3_l[3] for i in pf_l]\n",
    "f_l_5 = [i+f3_l[4] for i in pf_l]\n",
    "\n",
    "dic = dict()\n",
    "\n",
    "res_l_1 = []\n",
    "for i in f_l_1:\n",
    "    get_s_area(i, res_l_1)\n",
    "dic[\"1\"] = res_l_1\n",
    "\n",
    "res_l_2 = []\n",
    "for i in f_l_2:\n",
    "    get_s_area(i, res_l_2)\n",
    "dic[\"2\"] = res_l_2\n",
    "\n",
    "res_l_3 = []\n",
    "for i in f_l_3:\n",
    "    get_s_area(i, res_l_3)\n",
    "dic[\"3\"] = res_l_3\n",
    "\n",
    "res_l_4 = []\n",
    "for i in f_l_4:\n",
    "    get_s_area(i, res_l_4)\n",
    "dic[\"4\"] = res_l_4\n",
    "\n",
    "res_l_5 = []\n",
    "for i in f_l_5:\n",
    "    get_a_area(i, res_l_5)\n",
    "dic[\"5\"] = res_l_5\n",
    "\n",
    "# res_count = pd.read_excel(\"./Open/Kong_Open_True.xlsx\", skiprows=1)\n",
    "f = open(\"count.txt\", 'r')\n",
    "line = f.readline()\n",
    "count = line.split()\n",
    "f.close()\n",
    "dic[\"count\"] = count\n",
    "# # print([res_l_1[0], res_l_2[0], res_l_3[0], res_l_4[0], res_l_5[0], res_count[0]])\n",
    "# data = pd.DataFrame.from_dict(dic)\n",
    "# data[\"final\"] = (data[\"1\"] + data[\"2\"] + data[\"3\"] + data[\"4\"])/4*0.6 + data[\"5\"]*0.4\n",
    "dic[\"final\"] = dic[\"2\"]"
   ]
  },
  {
   "cell_type": "code",
   "execution_count": 28,
   "metadata": {},
   "outputs": [
    {
     "name": "stdout",
     "output_type": "stream",
     "text": [
      "[44, 60, 49, 129, 39, 22, 513, 196, 263, 170, 98, 379, 1600, 2, 31, 5, 1190, 151, 108, 122, 75, 84, 10, 24, 1375, 7, 1032, 1429, 1323, 691]\n"
     ]
    },
    {
     "data": {
      "text/plain": [
       "[<matplotlib.lines.Line2D at 0x7fe420be2e50>]"
      ]
     },
     "execution_count": 28,
     "metadata": {},
     "output_type": "execute_result"
    },
    {
     "data": {
      "image/png": "[encoded data removed]",
      "text/plain": [
       "<Figure size 432x288 with 1 Axes>"
      ]
     },
     "metadata": {
      "needs_background": "light"
     },
     "output_type": "display_data"
    }
   ],
   "source": [
    "x = dic[\"final\"]\n",
    "y = [int(i) for i in dic[\"count\"]]\n",
    "y.sort\n",
    "print(y)\n",
    "plt.plot(np.log(x),y,'o')"
   ]
  },
  {
   "cell_type": "code",
   "execution_count": 29,
   "metadata": {},
   "outputs": [
    {
     "name": "stdout",
     "output_type": "stream",
     "text": [
      "[-1.29856132e+04  5.01315181e+05 -6.44717450e+06  2.76217439e+07] <class 'numpy.ndarray'>\n",
      "1.630021557228492e+22\n"
     ]
    }
   ],
   "source": [
    "linear_model=np.polyfit(np.log(x),y,3)\n",
    "print(linear_model, type(linear_model))\n",
    "linear_model_fn=np.poly1d(linear_model)\n",
    "\n",
    "y_new = linear_model_fn(x)\n",
    "\n",
    "res = [100*abs(y_new[i]-y[i])/y[i]**2 for i in range(len(x))]\n",
    "print(sum(res))"
   ]
  },
  {
   "cell_type": "code",
   "execution_count": 30,
   "metadata": {},
   "outputs": [
    {
     "data": {
      "text/plain": [
       "[<matplotlib.lines.Line2D at 0x7fe4212ae670>]"
      ]
     },
     "execution_count": 30,
     "metadata": {},
     "output_type": "execute_result"
    },
    {
     "data": {
      "image/png": "[encoded data removed]",
      "text/plain": [
       "<Figure size 432x288 with 1 Axes>"
      ]
     },
     "metadata": {
      "needs_background": "light"
     },
     "output_type": "display_data"
    }
   ],
   "source": [
    "plt.plot(x,y_new,'o')"
   ]
  },
  {
   "cell_type": "code",
   "execution_count": null,
   "metadata": {},
   "outputs": [],
   "source": []
  }
 ],
 "metadata": {
  "kernelspec": {
   "display_name": "bean-count",
   "language": "python",
   "name": "bean-count"
  },
  "language_info": {
   "codemirror_mode": {
    "name": "ipython",
    "version": 3
   },
   "file_extension": ".py",
   "mimetype": "text/x-python",
   "name": "python",
   "nbconvert_exporter": "python",
   "pygments_lexer": "ipython3",
   "version": "3.9.0"
  }
 },
 "nbformat": 4,
 "nbformat_minor": 4
}
