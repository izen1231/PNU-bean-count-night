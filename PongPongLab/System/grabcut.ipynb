{
 "cells": [
  {
   "cell_type": "code",
   "execution_count": 1,
   "id": "79b1dff9",
   "metadata": {},
   "outputs": [],
   "source": [
    "import cv2\n",
    "import numpy as np\n",
    "from matplotlib import pyplot as plt"
   ]
  },
  {
   "cell_type": "code",
   "execution_count": 2,
   "id": "7893348e",
   "metadata": {},
   "outputs": [],
   "source": [
    "input_img1 = \"../../Open/t01/5.jpg\"\n",
    "input_img2 = \"../../Open/t01/2.jpg\""
   ]
  },
  {
   "cell_type": "code",
   "execution_count": null,
   "id": "e69267d3",
   "metadata": {},
   "outputs": [],
   "source": [
    "src = cv2.imread(input_img1)\n",
    "rc = cv2.selectROI(src)\n",
    "mask = np.zeros(src.shape[:2], np.uint8)\n",
    "cv2.grabCut(src,mask,rc,None, None, 5, cv2.GC_INIT_WITH_RECT)\n",
    "#0: cv2.GC_BGD, 2: cv2.GC_PR_BGD\n",
    "mask2 = np.where((mask==0)|(mask==2), 0, 1).astype (\"uint8\")\n",
    "dst = src*mask2[:, :, np.newaxis]\n",
    "plt.imshow(dst)"
   ]
  },
  {
   "cell_type": "raw",
   "id": "fb70d441",
   "metadata": {},
   "source": []
  }
 ],
 "metadata": {
  "kernelspec": {
   "display_name": "bean-count",
   "language": "python",
   "name": "bean-count"
  },
  "language_info": {
   "codemirror_mode": {
    "name": "ipython",
    "version": 3
   },
   "file_extension": ".py",
   "mimetype": "text/x-python",
   "name": "python",
   "nbconvert_exporter": "python",
   "pygments_lexer": "ipython3",
   "version": "3.9.0"
  }
 },
 "nbformat": 4,
 "nbformat_minor": 5
}
