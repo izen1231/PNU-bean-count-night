{
 "cells": [
  {
   "cell_type": "code",
   "execution_count": 7,
   "id": "2af03441",
   "metadata": {},
   "outputs": [],
   "source": [
    "import cv2\n",
    "import numpy as np\n",
    "from matplotlib import pyplot as plt"
   ]
  },
  {
   "cell_type": "code",
   "execution_count": 8,
   "id": "9041a81f",
   "metadata": {},
   "outputs": [],
   "source": [
    "input_img1 = \"../../Open/t01/5.jpg\"\n",
    "input_img2 = \"../../Open/t01/2.jpg\""
   ]
  },
  {
   "cell_type": "code",
   "execution_count": 9,
   "id": "6ea1155c",
   "metadata": {},
   "outputs": [
    {
     "name": "stdout",
     "output_type": "stream",
     "text": [
      "cnt1:  1\n"
     ]
    }
   ],
   "source": [
    "src = cv2.imread(input_img1, cv2.IMREAD_GRAYSCALE)\n",
    "dst1 = np.zeros(src.shape, np.uint8)\n",
    "\n",
    "cnt1, _ = cv2.connectedComponents(dst1)\n",
    "print(\"cnt1: \", cnt1)"
   ]
  },
  {
   "cell_type": "code",
   "execution_count": 10,
   "id": "90aa774a",
   "metadata": {},
   "outputs": [
    {
     "data": {
      "text/plain": [
       "<matplotlib.image.AxesImage at 0x7f8388b3d130>"
      ]
     },
     "execution_count": 10,
     "metadata": {},
     "output_type": "execute_result"
    },
    {
     "data": {
      "image/png": "[encoded data removed]",
      "text/plain": [
       "<Figure size 432x288 with 1 Axes>"
      ]
     },
     "metadata": {
      "needs_background": "light"
     },
     "output_type": "display_data"
    }
   ],
   "source": [
    "dst2 = cv2.morphologyEx(dst1, cv2.MORPH_OPEN, None)\n",
    "plt.imshow(dst2)"
   ]
  },
  {
   "cell_type": "code",
   "execution_count": 6,
   "id": "5851d12c",
   "metadata": {},
   "outputs": [
    {
     "name": "stdout",
     "output_type": "stream",
     "text": [
      "cnt2:  1\n"
     ]
    }
   ],
   "source": [
    "cnt2, _ = cv2.connectedComponents(dst2)\n",
    "print(\"cnt2: \", cnt2)"
   ]
  },
  {
   "cell_type": "code",
   "execution_count": null,
   "id": "5f38a643",
   "metadata": {},
   "outputs": [],
   "source": []
  }
 ],
 "metadata": {
  "kernelspec": {
   "display_name": "bean-count",
   "language": "python",
   "name": "bean-count"
  },
  "language_info": {
   "codemirror_mode": {
    "name": "ipython",
    "version": 3
   },
   "file_extension": ".py",
   "mimetype": "text/x-python",
   "name": "python",
   "nbconvert_exporter": "python",
   "pygments_lexer": "ipython3",
   "version": "3.9.0"
  }
 },
 "nbformat": 4,
 "nbformat_minor": 5
}
